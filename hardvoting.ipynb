{
 "metadata": {
  "orig_nbformat": 2,
  "kernelspec": {
   "name": "conda",
   "display_name": "python3",
   "language": "python"
  }
 },
 "nbformat": 4,
 "nbformat_minor": 2,
 "cells": [
  {
   "cell_type": "code",
   "execution_count": 64,
   "metadata": {},
   "outputs": [],
   "source": [
    "import pandas as pd\n",
    "from pandas import DataFrame\n",
    "from collections import Counter\n",
    "\n",
    "df_list = []\n",
    "\n",
    "for i in range(1,11):\n",
    "    df_list.append(pd.read_csv(f'/opt/ml/code/output ({str(i)}).csv')) # csv를 output (숫자).csv로 나열"
   ]
  },
  {
   "cell_type": "code",
   "execution_count": 65,
   "metadata": {},
   "outputs": [],
   "source": [
    "res_list = []\n",
    "for i in range(0,1000):\n",
    "    tmp = [df_list[j]['pred'][i] for j in range(5)]\n",
    "    c = Counter(tmp)\n",
    "    v = c.most_common(n=1)[0][0]\n",
    "    res_list.append(v)\n",
    "\n",
    "res_df = DataFrame({\"pred\":res_list})"
   ]
  },
  {
   "cell_type": "code",
   "execution_count": 66,
   "metadata": {},
   "outputs": [],
   "source": [
    "res_df.to_csv(f'/opt/ml/code/submission_hard_voting.csv',columns=['pred'],index=False)"
   ]
  },
  {
   "cell_type": "code",
   "execution_count": null,
   "metadata": {},
   "outputs": [],
   "source": []
  }
 ]
}